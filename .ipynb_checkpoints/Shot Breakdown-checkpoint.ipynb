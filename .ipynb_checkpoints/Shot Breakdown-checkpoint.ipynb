{
 "cells": [
  {
   "cell_type": "code",
   "execution_count": 277,
   "metadata": {},
   "outputs": [],
   "source": [
    "import pandas as pd\n",
    "import numpy as np\n",
    "import csv"
   ]
  },
  {
   "cell_type": "code",
   "execution_count": 278,
   "metadata": {
    "scrolled": false
   },
   "outputs": [
    {
     "name": "stderr",
     "output_type": "stream",
     "text": [
      "C:\\ProgramData\\Anaconda3\\lib\\site-packages\\ipykernel_launcher.py:30: SettingWithCopyWarning: \n",
      "A value is trying to be set on a copy of a slice from a DataFrame.\n",
      "Try using .loc[row_indexer,col_indexer] = value instead\n",
      "\n",
      "See the caveats in the documentation: http://pandas.pydata.org/pandas-docs/stable/indexing.html#indexing-view-versus-copy\n",
      "C:\\ProgramData\\Anaconda3\\lib\\site-packages\\ipykernel_launcher.py:39: SettingWithCopyWarning: \n",
      "A value is trying to be set on a copy of a slice from a DataFrame.\n",
      "Try using .loc[row_indexer,col_indexer] = value instead\n",
      "\n",
      "See the caveats in the documentation: http://pandas.pydata.org/pandas-docs/stable/indexing.html#indexing-view-versus-copy\n"
     ]
    }
   ],
   "source": [
    "for y in [\"1996-97\",\"1997-98\",\"1998-99\",\"1999-00\",\"2000-01\",\"2001-02\",\"2002-03\",\"2003-04\",\"2004-05\",\"2005-06\",\"2006-07\",\"2007-08\",\"2008-09\",\"2009-10\",\"2010-11\",\"2011-12\",\"2012-13\",\"2013-14\",\"2014-15\",\"2015-16\",\"2016-17\",\"2017-18\"]:\n",
    "    \n",
    "    data = pd.read_csv(str(\"../ALL BASKETBALL/drive-data/csv/raw_shot_data/raw_shot_data_\"+y+\".csv\"))\n",
    "\n",
    "    data1 = data[[\"gameId\",\"playerName\",\"actionType\", \"shotDistance\",\"shotMadeFlag\"]]\n",
    "    plays_dict = {}\n",
    "\n",
    "    plays = set(data1[\"actionType\"].values.tolist())\n",
    "    for play in plays:\n",
    "\n",
    "        if (\"Hook\" in play) | (\"Turnaround\" in play):\n",
    "            plays_dict[play]=\"Post\"\n",
    "        elif (\"Tip\" in play) | (\"Putback\" in play) | (\"Alley\" in play):\n",
    "            plays_dict[play]=\"Reb/Oop\"\n",
    "        elif \"Driving\" in play:\n",
    "            plays_dict[play]=\"Drive\"\n",
    "        elif \"Cutting\" in play:\n",
    "            plays_dict[play]=\"Cut\"\n",
    "        elif \"Pull\" in play:\n",
    "            plays_dict[play]=\"Pullup\"\n",
    "        elif \"Layup\" in play:\n",
    "            plays_dict[play]=\"Layup\"\n",
    "        elif \"Dunk\" in play:\n",
    "            plays_dict[play]=\"Dunk\"\n",
    "        elif \"Jump\" in play:\n",
    "            plays_dict[play]=\"Jumper\"\n",
    "        else:\n",
    "            plays_dict[play]=\"invalid\"\n",
    "        \n",
    "    data1[\"ShotClass\"] = data1[\"actionType\"].map(plays_dict)\n",
    "    data1[\"ShotRange\"] = np.where(data1[\"shotDistance\"]>46, \"47-94 Backcourt\", \n",
    "                                 np.where(data1[\"shotDistance\"]>34, \"35-46 Near Half\", \n",
    "                                         np.where(data1[\"shotDistance\"]>27, \"28-34 Deep\", \n",
    "                                                  np.where(data1[\"shotDistance\"]>23, \"24-27 Three\", \n",
    "                                                          np.where(data1[\"shotDistance\"]>17, \"18-23 Long Jumper\", \n",
    "                                                                  np.where(data1[\"shotDistance\"]>12, \"13-17 Mid Range\", \n",
    "                                                                          np.where(data1[\"shotDistance\"]>8, \"9-12 Short Range\", \n",
    "                                                                                  np.where(data1[\"shotDistance\"]>2, \"3-8 Near Rim\", \n",
    "                                                                                          \"0-2 At Rim\"))))))))\n",
    "    shots = data1[[\"gameId\",\"playerName\",\"shotMadeFlag\",\"ShotRange\",\"ShotClass\"]]\n",
    "    shots.to_csv(str(\"shot_data/all_shots_\"+y+\".csv\"),index=False,encoding=\"utf-8\")\n",
    "    shot_summ_df = shots.groupby([\"playerName\",\"ShotRange\",\"ShotClass\",\"shotMadeFlag\"]).size().reset_index()\n",
    "    shot_summ_df.columns=[\"playername\",\"ShotRange\",\"ShotClass\",\"Outcome\",\"FGA\"]\n",
    "    misses = shot_summ_df.loc[shot_summ_df[\"Outcome\"]==0]\n",
    "    misses = misses.rename(columns={\"FGA\":\"Missed\"}).reset_index(drop=True)\n",
    "    makes = shot_summ_df.loc[shot_summ_df[\"Outcome\"]==1]\n",
    "    makes = makes.rename(columns={\"FGA\":\"Made\"}).reset_index(drop=True)\n",
    "    shot_log = pd.merge(makes,misses,how=\"outer\",on=[\"playername\",\"ShotRange\",\"ShotClass\"])\n",
    "    shot_log = shot_log.fillna(0).drop(columns=[\"Outcome_x\",\"Outcome_y\"])\n",
    "    shot_log[[\"Made\",\"Missed\"]] = shot_log[[\"Made\",\"Missed\"]].astype(int)\n",
    "    shot_log[\"ShotPts\"] = np.where(shot_log[\"ShotRange\"].isin([\"47-94 Backcourt\",\"35-46 Near Half\",\"28-34 Deep\",\"24-27 Three\"]),3,2)\n",
    "    shot_log[\"FGA\"]=shot_log[\"Made\"] + shot_log[\"Missed\"]\n",
    "    shot_log[\"PPS\"]=shot_log[\"ShotPts\"] * (shot_log[\"Made\"]/shot_log[\"FGA\"])\n",
    "    shot_log[\"Points\"]=shot_log[\"Made\"] * shot_log[\"ShotPts\"]\n",
    "    shot_log = shot_log.sort_values([\"playername\",\"ShotRange\",\"ShotClass\"])\n",
    "    shot_log = shot_log.drop(columns=[\"Made\",\"Missed\",\"FGA\",\"ShotPts\"]).reset_index(drop=True)\n",
    "    shot_log.to_csv(str(\"shot_data/shot_log_\"+y+\".csv\"),index=False,encoding=\"utf-8\")"
   ]
  },
  {
   "cell_type": "code",
   "execution_count": null,
   "metadata": {},
   "outputs": [],
   "source": []
  },
  {
   "cell_type": "code",
   "execution_count": null,
   "metadata": {},
   "outputs": [],
   "source": []
  },
  {
   "cell_type": "code",
   "execution_count": null,
   "metadata": {},
   "outputs": [],
   "source": []
  },
  {
   "cell_type": "code",
   "execution_count": null,
   "metadata": {},
   "outputs": [],
   "source": []
  },
  {
   "cell_type": "code",
   "execution_count": null,
   "metadata": {},
   "outputs": [],
   "source": []
  },
  {
   "cell_type": "code",
   "execution_count": null,
   "metadata": {},
   "outputs": [],
   "source": []
  },
  {
   "cell_type": "code",
   "execution_count": null,
   "metadata": {},
   "outputs": [],
   "source": []
  },
  {
   "cell_type": "code",
   "execution_count": null,
   "metadata": {},
   "outputs": [],
   "source": []
  },
  {
   "cell_type": "code",
   "execution_count": null,
   "metadata": {},
   "outputs": [],
   "source": []
  },
  {
   "cell_type": "code",
   "execution_count": null,
   "metadata": {},
   "outputs": [],
   "source": []
  },
  {
   "cell_type": "code",
   "execution_count": null,
   "metadata": {},
   "outputs": [],
   "source": []
  }
 ],
 "metadata": {
  "kernelspec": {
   "display_name": "Python 3",
   "language": "python",
   "name": "python3"
  },
  "language_info": {
   "codemirror_mode": {
    "name": "ipython",
    "version": 3
   },
   "file_extension": ".py",
   "mimetype": "text/x-python",
   "name": "python",
   "nbconvert_exporter": "python",
   "pygments_lexer": "ipython3",
   "version": "3.6.4"
  }
 },
 "nbformat": 4,
 "nbformat_minor": 2
}
