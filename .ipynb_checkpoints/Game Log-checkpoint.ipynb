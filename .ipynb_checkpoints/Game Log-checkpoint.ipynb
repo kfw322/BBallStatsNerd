{
 "cells": [
  {
   "cell_type": "code",
   "execution_count": 260,
   "metadata": {},
   "outputs": [],
   "source": [
    "import json\n",
    "import pandas as pd \n",
    "from collections import Counter\n",
    "raw_data = pd.read_csv(\"data/2017-18_playerBoxScore.csv\")"
   ]
  },
  {
   "cell_type": "code",
   "execution_count": 261,
   "metadata": {},
   "outputs": [
    {
     "data": {
      "text/html": [
       "<div>\n",
       "<style scoped>\n",
       "    .dataframe tbody tr th:only-of-type {\n",
       "        vertical-align: middle;\n",
       "    }\n",
       "\n",
       "    .dataframe tbody tr th {\n",
       "        vertical-align: top;\n",
       "    }\n",
       "\n",
       "    .dataframe thead th {\n",
       "        text-align: right;\n",
       "    }\n",
       "</style>\n",
       "<table border=\"1\" class=\"dataframe\">\n",
       "  <thead>\n",
       "    <tr style=\"text-align: right;\">\n",
       "      <th></th>\n",
       "      <th>playDispNm</th>\n",
       "      <th>playPos</th>\n",
       "      <th>gmDate</th>\n",
       "      <th>playMin</th>\n",
       "      <th>playStat</th>\n",
       "      <th>playPTS</th>\n",
       "      <th>playTRB</th>\n",
       "      <th>playAST</th>\n",
       "      <th>playSTL</th>\n",
       "      <th>playBLK</th>\n",
       "      <th>...</th>\n",
       "      <th>playFGA</th>\n",
       "      <th>play3PM</th>\n",
       "      <th>play3PA</th>\n",
       "      <th>playFTM</th>\n",
       "      <th>playFTA</th>\n",
       "      <th>playORB</th>\n",
       "      <th>teamAbbr</th>\n",
       "      <th>opptAbbr</th>\n",
       "      <th>teamLoc</th>\n",
       "      <th>teamRslt</th>\n",
       "    </tr>\n",
       "  </thead>\n",
       "  <tbody>\n",
       "    <tr>\n",
       "      <th>0</th>\n",
       "      <td>Jaylen Brown</td>\n",
       "      <td>F</td>\n",
       "      <td>2017-10-17</td>\n",
       "      <td>40</td>\n",
       "      <td>Starter</td>\n",
       "      <td>25</td>\n",
       "      <td>6</td>\n",
       "      <td>0</td>\n",
       "      <td>3</td>\n",
       "      <td>0</td>\n",
       "      <td>...</td>\n",
       "      <td>23</td>\n",
       "      <td>2</td>\n",
       "      <td>9</td>\n",
       "      <td>1</td>\n",
       "      <td>2</td>\n",
       "      <td>1</td>\n",
       "      <td>BOS</td>\n",
       "      <td>CLE</td>\n",
       "      <td>Away</td>\n",
       "      <td>Loss</td>\n",
       "    </tr>\n",
       "    <tr>\n",
       "      <th>1</th>\n",
       "      <td>Kyrie Irving</td>\n",
       "      <td>PG</td>\n",
       "      <td>2017-10-17</td>\n",
       "      <td>39</td>\n",
       "      <td>Starter</td>\n",
       "      <td>22</td>\n",
       "      <td>4</td>\n",
       "      <td>10</td>\n",
       "      <td>3</td>\n",
       "      <td>0</td>\n",
       "      <td>...</td>\n",
       "      <td>17</td>\n",
       "      <td>4</td>\n",
       "      <td>9</td>\n",
       "      <td>2</td>\n",
       "      <td>2</td>\n",
       "      <td>2</td>\n",
       "      <td>BOS</td>\n",
       "      <td>CLE</td>\n",
       "      <td>Away</td>\n",
       "      <td>Loss</td>\n",
       "    </tr>\n",
       "    <tr>\n",
       "      <th>2</th>\n",
       "      <td>Jayson Tatum</td>\n",
       "      <td>SF</td>\n",
       "      <td>2017-10-17</td>\n",
       "      <td>37</td>\n",
       "      <td>Starter</td>\n",
       "      <td>14</td>\n",
       "      <td>10</td>\n",
       "      <td>3</td>\n",
       "      <td>0</td>\n",
       "      <td>0</td>\n",
       "      <td>...</td>\n",
       "      <td>12</td>\n",
       "      <td>1</td>\n",
       "      <td>2</td>\n",
       "      <td>3</td>\n",
       "      <td>3</td>\n",
       "      <td>4</td>\n",
       "      <td>BOS</td>\n",
       "      <td>CLE</td>\n",
       "      <td>Away</td>\n",
       "      <td>Loss</td>\n",
       "    </tr>\n",
       "    <tr>\n",
       "      <th>3</th>\n",
       "      <td>Al Horford</td>\n",
       "      <td>C</td>\n",
       "      <td>2017-10-17</td>\n",
       "      <td>32</td>\n",
       "      <td>Starter</td>\n",
       "      <td>9</td>\n",
       "      <td>7</td>\n",
       "      <td>5</td>\n",
       "      <td>0</td>\n",
       "      <td>1</td>\n",
       "      <td>...</td>\n",
       "      <td>7</td>\n",
       "      <td>0</td>\n",
       "      <td>2</td>\n",
       "      <td>5</td>\n",
       "      <td>7</td>\n",
       "      <td>0</td>\n",
       "      <td>BOS</td>\n",
       "      <td>CLE</td>\n",
       "      <td>Away</td>\n",
       "      <td>Loss</td>\n",
       "    </tr>\n",
       "    <tr>\n",
       "      <th>4</th>\n",
       "      <td>Gordon Hayward</td>\n",
       "      <td>SF</td>\n",
       "      <td>2017-10-17</td>\n",
       "      <td>5</td>\n",
       "      <td>Starter</td>\n",
       "      <td>2</td>\n",
       "      <td>1</td>\n",
       "      <td>0</td>\n",
       "      <td>0</td>\n",
       "      <td>0</td>\n",
       "      <td>...</td>\n",
       "      <td>2</td>\n",
       "      <td>0</td>\n",
       "      <td>1</td>\n",
       "      <td>0</td>\n",
       "      <td>0</td>\n",
       "      <td>0</td>\n",
       "      <td>BOS</td>\n",
       "      <td>CLE</td>\n",
       "      <td>Away</td>\n",
       "      <td>Loss</td>\n",
       "    </tr>\n",
       "  </tbody>\n",
       "</table>\n",
       "<p>5 rows × 23 columns</p>\n",
       "</div>"
      ],
      "text/plain": [
       "       playDispNm playPos      gmDate  playMin playStat  playPTS  playTRB  \\\n",
       "0    Jaylen Brown       F  2017-10-17       40  Starter       25        6   \n",
       "1    Kyrie Irving      PG  2017-10-17       39  Starter       22        4   \n",
       "2    Jayson Tatum      SF  2017-10-17       37  Starter       14       10   \n",
       "3      Al Horford       C  2017-10-17       32  Starter        9        7   \n",
       "4  Gordon Hayward      SF  2017-10-17        5  Starter        2        1   \n",
       "\n",
       "   playAST  playSTL  playBLK   ...     playFGA  play3PM  play3PA  playFTM  \\\n",
       "0        0        3        0   ...          23        2        9        1   \n",
       "1       10        3        0   ...          17        4        9        2   \n",
       "2        3        0        0   ...          12        1        2        3   \n",
       "3        5        0        1   ...           7        0        2        5   \n",
       "4        0        0        0   ...           2        0        1        0   \n",
       "\n",
       "   playFTA  playORB  teamAbbr  opptAbbr  teamLoc teamRslt  \n",
       "0        2        1       BOS       CLE     Away     Loss  \n",
       "1        2        2       BOS       CLE     Away     Loss  \n",
       "2        3        4       BOS       CLE     Away     Loss  \n",
       "3        7        0       BOS       CLE     Away     Loss  \n",
       "4        0        0       BOS       CLE     Away     Loss  \n",
       "\n",
       "[5 rows x 23 columns]"
      ]
     },
     "execution_count": 261,
     "metadata": {},
     "output_type": "execute_result"
    }
   ],
   "source": [
    "all_data = raw_data[[\"playDispNm\",\"playPos\",\"gmDate\",\"playMin\",\"playStat\",\"playPTS\",\"playTRB\",\"playAST\",\"playSTL\",\"playBLK\",\"playTO\",\"playPF\",\"playFGM\",\"playFGA\",\"play3PM\",\"play3PA\",\"playFTM\",\"playFTA\",\"playORB\",\"teamAbbr\",\"opptAbbr\",\"teamLoc\",\"teamRslt\"]]\n",
    "all_data.head()"
   ]
  },
  {
   "cell_type": "code",
   "execution_count": 262,
   "metadata": {},
   "outputs": [],
   "source": [
    "team_list = sorted(all_data[\"teamAbbr\"].unique().tolist())"
   ]
  },
  {
   "cell_type": "code",
   "execution_count": 263,
   "metadata": {},
   "outputs": [],
   "source": [
    "teamdata = {}\n",
    "teamplayers = {}\n",
    "player_list = []\n",
    "teamdata[\"ALL\"] = {}\n",
    "for team in team_list:\n",
    "    teamdata[team] = {}\n",
    "    \n",
    "    teamdataframe = all_data[all_data[\"teamAbbr\"]==team]\n",
    "    players = sorted(all_data[all_data[\"teamAbbr\"]==team].playDispNm.unique().tolist())\n",
    "    for player in players:\n",
    "        teamdata[team][player] = teamdataframe[teamdataframe[\"playDispNm\"]==player]\n",
    "        teamdata[\"ALL\"][player] = all_data[all_data[\"playDispNm\"]==player]\n",
    "        \n",
    "    player_list.extend(players)\n"
   ]
  },
  {
   "cell_type": "code",
   "execution_count": 270,
   "metadata": {},
   "outputs": [],
   "source": [
    "#HTML TABLES RIGHT HERE BOIIIII\n",
    "htmlplayergamelog = str(str(teamdata[\"ALL\"][\"Giannis Antetokounmpo\"].to_html(index=False)).replace(\"\\n\",\"\").replace(\"'\",\"\").replace(\",\",\"\").replace(\"play\",\"\").replace(\"dataframe\",\"w3-hoverable w3-table-all w3-tiny\"))"
   ]
  },
  {
   "cell_type": "code",
   "execution_count": 271,
   "metadata": {},
   "outputs": [
    {
     "data": {
      "text/plain": [
       "'<table border=\"1\" class=\"w3-hoverable w3-table-all w3-tiny\">  <thead>    <tr style=\"text-align: right;\">      <th>DispNm</th>      <th>Pos</th>      <th>gmDate</th>      <th>Min</th>      <th>Stat</th>      <th>PTS</th>      <th>TRB</th>      <th>AST</th>      <th>STL</th>      <th>BLK</th>      <th>TO</th>      <th>PF</th>      <th>FGM</th>      <th>FGA</th>      <th>3PM</th>      <th>3PA</th>      <th>FTM</th>      <th>FTA</th>      <th>ORB</th>      <th>teamAbbr</th>      <th>opptAbbr</th>      <th>teamLoc</th>      <th>teamRslt</th>    </tr>  </thead>  <tbody>    <tr>      <td>Giannis Antetokounmpo</td>      <td>SF</td>      <td>2017-10-18</td>      <td>37</td>      <td>Starter</td>      <td>37</td>      <td>13</td>      <td>3</td>      <td>3</td>      <td>0</td>      <td>5</td>      <td>4</td>      <td>13</td>      <td>22</td>      <td>0</td>      <td>1</td>      <td>11</td>      <td>13</td>      <td>1</td>      <td>MIL</td>      <td>BOS</td>      <td>Away</td>      <td>Win</td>    </tr>    <tr>      <td>Giannis Antetokounmpo</td>      <td>SF</td>      <td>2017-10-20</td>      <td>39</td>      <td>Starter</td>      <td>34</td>      <td>8</td>      <td>8</td>      <td>3</td>      <td>1</td>      <td>2</td>      <td>2</td>      <td>15</td>      <td>22</td>      <td>0</td>      <td>1</td>      <td>4</td>      <td>6</td>      <td>2</td>      <td>MIL</td>      <td>CLE</td>      <td>Home</td>      <td>Loss</td>    </tr>    <tr>      <td>Giannis Antetokounmpo</td>      <td>SF</td>      <td>2017-10-21</td>      <td>39</td>      <td>Starter</td>      <td>44</td>      <td>8</td>      <td>4</td>      <td>2</td>      <td>1</td>      <td>2</td>      <td>3</td>      <td>17</td>      <td>23</td>      <td>1</td>      <td>4</td>      <td>9</td>      <td>13</td>      <td>2</td>      <td>MIL</td>      <td>POR</td>      <td>Home</td>      <td>Win</td>    </tr>    <tr>      <td>Giannis Antetokounmpo</td>      <td>SF</td>      <td>2017-10-23</td>      <td>39</td>      <td>Starter</td>      <td>32</td>      <td>14</td>      <td>6</td>      <td>1</td>      <td>2</td>      <td>6</td>      <td>5</td>      <td>13</td>      <td>21</td>      <td>0</td>      <td>0</td>      <td>6</td>      <td>8</td>      <td>2</td>      <td>MIL</td>      <td>CHA</td>      <td>Home</td>      <td>Win</td>    </tr>    <tr>      <td>Giannis Antetokounmpo</td>      <td>SF</td>      <td>2017-10-26</td>      <td>42</td>      <td>Starter</td>      <td>28</td>      <td>10</td>      <td>7</td>      <td>3</td>      <td>1</td>      <td>3</td>      <td>3</td>      <td>10</td>      <td>21</td>      <td>2</td>      <td>3</td>      <td>6</td>      <td>7</td>      <td>0</td>      <td>MIL</td>      <td>BOS</td>      <td>Home</td>      <td>Loss</td>    </tr>    <tr>      <td>Giannis Antetokounmpo</td>      <td>SF</td>      <td>2017-10-29</td>      <td>38</td>      <td>Starter</td>      <td>33</td>      <td>11</td>      <td>5</td>      <td>0</td>      <td>0</td>      <td>1</td>      <td>4</td>      <td>14</td>      <td>21</td>      <td>1</td>      <td>3</td>      <td>4</td>      <td>6</td>      <td>1</td>      <td>MIL</td>      <td>ATL</td>      <td>Away</td>      <td>Win</td>    </tr>    <tr>      <td>Giannis Antetokounmpo</td>      <td>PF</td>      <td>2017-10-31</td>      <td>28</td>      <td>Starter</td>      <td>28</td>      <td>8</td>      <td>3</td>      <td>0</td>      <td>1</td>      <td>4</td>      <td>4</td>      <td>9</td>      <td>14</td>      <td>2</td>      <td>3</td>      <td>8</td>      <td>9</td>      <td>2</td>      <td>MIL</td>      <td>OKC</td>      <td>Home</td>      <td>Loss</td>    </tr>    <tr>      <td>Giannis Antetokounmpo</td>      <td>PF</td>      <td>2017-11-01</td>      <td>32</td>      <td>Starter</td>      <td>14</td>      <td>13</td>      <td>5</td>      <td>2</td>      <td>2</td>      <td>3</td>      <td>5</td>      <td>5</td>      <td>16</td>      <td>0</td>      <td>2</td>      <td>4</td>      <td>4</td>      <td>1</td>      <td>MIL</td>      <td>CHA</td>      <td>Away</td>      <td>Loss</td>    </tr>    <tr>      <td>Giannis Antetokounmpo</td>      <td>PF</td>      <td>2017-11-03</td>      <td>38</td>      <td>Starter</td>      <td>29</td>      <td>4</td>      <td>3</td>      <td>1</td>      <td>4</td>      <td>3</td>      <td>2</td>      <td>13</td>      <td>27</td>      <td>1</td>      <td>4</td>      <td>2</td>      <td>2</td>      <td>1</td>      <td>MIL</td>      <td>DET</td>      <td>Away</td>      <td>Loss</td>    </tr>    <tr>      <td>Giannis Antetokounmpo</td>      <td>PF</td>      <td>2017-11-07</td>      <td>40</td>      <td>Starter</td>      <td>40</td>      <td>9</td>      <td>3</td>      <td>0</td>      <td>4</td>      <td>8</td>      <td>6</td>      <td>16</td>      <td>21</td>      <td>0</td>      <td>0</td>      <td>8</td>      <td>11</td>      <td>4</td>      <td>MIL</td>      <td>CLE</td>      <td>Away</td>      <td>Loss</td>    </tr>    <tr>      <td>Giannis Antetokounmpo</td>      <td>PF</td>      <td>2017-11-10</td>      <td>36</td>      <td>Starter</td>      <td>28</td>      <td>12</td>      <td>5</td>      <td>1</td>      <td>4</td>      <td>1</td>      <td>2</td>      <td>12</td>      <td>24</td>      <td>0</td>      <td>1</td>      <td>4</td>      <td>8</td>      <td>2</td>      <td>MIL</td>      <td>SA</td>      <td>Away</td>      <td>Win</td>    </tr>    <tr>      <td>Giannis Antetokounmpo</td>      <td>PF</td>      <td>2017-11-11</td>      <td>40</td>      <td>Starter</td>      <td>33</td>      <td>15</td>      <td>3</td>      <td>1</td>      <td>1</td>      <td>3</td>      <td>3</td>      <td>12</td>      <td>19</td>      <td>0</td>      <td>1</td>      <td>9</td>      <td>11</td>      <td>3</td>      <td>MIL</td>      <td>LAL</td>      <td>Home</td>      <td>Win</td>    </tr>    <tr>      <td>Giannis Antetokounmpo</td>      <td>PF</td>      <td>2017-11-13</td>      <td>44</td>      <td>Starter</td>      <td>27</td>      <td>9</td>      <td>7</td>      <td>2</td>      <td>2</td>      <td>2</td>      <td>2</td>      <td>10</td>      <td>22</td>      <td>0</td>      <td>1</td>      <td>7</td>      <td>9</td>      <td>3</td>      <td>MIL</td>      <td>MEM</td>      <td>Home</td>      <td>Win</td>    </tr>    <tr>      <td>Giannis Antetokounmpo</td>      <td>PF</td>      <td>2017-11-15</td>      <td>35</td>      <td>Starter</td>      <td>21</td>      <td>6</td>      <td>1</td>      <td>3</td>      <td>4</td>      <td>3</td>      <td>5</td>      <td>8</td>      <td>16</td>      <td>0</td>      <td>1</td>      <td>5</td>      <td>6</td>      <td>2</td>      <td>MIL</td>      <td>DET</td>      <td>Home</td>      <td>Win</td>    </tr>    <tr>      <td>Giannis Antetokounmpo</td>      <td>PF</td>      <td>2017-11-18</td>      <td>40</td>      <td>Starter</td>      <td>24</td>      <td>17</td>      <td>2</td>      <td>3</td>      <td>0</td>      <td>3</td>      <td>5</td>      <td>7</td>      <td>20</td>      <td>1</td>      <td>2</td>      <td>9</td>      <td>13</td>      <td>5</td>      <td>MIL</td>      <td>DAL</td>      <td>Away</td>      <td>Loss</td>    </tr>    <tr>      <td>Giannis Antetokounmpo</td>      <td>PF</td>      <td>2017-11-20</td>      <td>39</td>      <td>Starter</td>      <td>23</td>      <td>8</td>      <td>4</td>      <td>0</td>      <td>3</td>      <td>0</td>      <td>3</td>      <td>8</td>      <td>21</td>      <td>0</td>      <td>3</td>      <td>7</td>      <td>9</td>      <td>1</td>      <td>MIL</td>      <td>WAS</td>      <td>Home</td>      <td>Loss</td>    </tr>    <tr>      <td>Giannis Antetokounmpo</td>      <td>PF</td>      <td>2017-11-25</td>      <td>39</td>      <td>Starter</td>      <td>27</td>      <td>13</td>      <td>5</td>      <td>0</td>      <td>0</td>      <td>3</td>      <td>3</td>      <td>10</td>      <td>18</td>      <td>0</td>      <td>1</td>      <td>7</td>      <td>9</td>      <td>3</td>      <td>MIL</td>      <td>UTA</td>      <td>Away</td>      <td>Loss</td>    </tr>    <tr>      <td>Giannis Antetokounmpo</td>      <td>SF</td>      <td>2017-11-28</td>      <td>26</td>      <td>Starter</td>      <td>32</td>      <td>5</td>      <td>5</td>      <td>5</td>      <td>1</td>      <td>2</td>      <td>4</td>      <td>11</td>      <td>16</td>      <td>1</td>      <td>1</td>      <td>9</td>      <td>13</td>      <td>0</td>      <td>MIL</td>      <td>SAC</td>      <td>Away</td>      <td>Win</td>    </tr>    <tr>      <td>Giannis Antetokounmpo</td>      <td>PF</td>      <td>2017-11-30</td>      <td>37</td>      <td>Starter</td>      <td>20</td>      <td>9</td>      <td>5</td>      <td>3</td>      <td>3</td>      <td>0</td>      <td>3</td>      <td>7</td>      <td>20</td>      <td>0</td>      <td>1</td>      <td>6</td>      <td>8</td>      <td>1</td>      <td>MIL</td>      <td>POR</td>      <td>Away</td>      <td>Win</td>    </tr>    <tr>      <td>Giannis Antetokounmpo</td>      <td>PF</td>      <td>2017-12-02</td>      <td>34</td>      <td>Starter</td>      <td>33</td>      <td>13</td>      <td>5</td>      <td>3</td>      <td>1</td>      <td>2</td>      <td>2</td>      <td>8</td>      <td>15</td>      <td>0</td>      <td>2</td>      <td>17</td>      <td>22</td>      <td>3</td>      <td>MIL</td>      <td>SAC</td>      <td>Home</td>      <td>Win</td>    </tr>    <tr>      <td>Giannis Antetokounmpo</td>      <td>PF</td>      <td>2017-12-04</td>      <td>39</td>      <td>Starter</td>      <td>40</td>      <td>9</td>      <td>4</td>      <td>0</td>      <td>0</td>      <td>4</td>      <td>5</td>      <td>14</td>      <td>24</td>      <td>0</td>      <td>1</td>      <td>12</td>      <td>14</td>      <td>1</td>      <td>MIL</td>      <td>BOS</td>      <td>Away</td>      <td>Loss</td>    </tr>    <tr>      <td>Giannis Antetokounmpo</td>      <td>PF</td>      <td>2017-12-06</td>      <td>38</td>      <td>Starter</td>      <td>25</td>      <td>10</td>      <td>4</td>      <td>1</td>      <td>2</td>      <td>5</td>      <td>4</td>      <td>8</td>      <td>16</td>      <td>1</td>      <td>3</td>      <td>8</td>      <td>12</td>      <td>4</td>      <td>MIL</td>      <td>DET</td>      <td>Home</td>      <td>Win</td>    </tr>    <tr>      <td>Giannis Antetokounmpo</td>      <td>PF</td>      <td>2017-12-08</td>      <td>43</td>      <td>Starter</td>      <td>27</td>      <td>11</td>      <td>3</td>      <td>2</td>      <td>2</td>      <td>4</td>      <td>5</td>      <td>8</td>      <td>19</td>      <td>0</td>      <td>0</td>      <td>11</td>      <td>12</td>      <td>2</td>      <td>MIL</td>      <td>DAL</td>      <td>Home</td>      <td>Win</td>    </tr>    <tr>      <td>Giannis Antetokounmpo</td>      <td>PF</td>      <td>2017-12-09</td>      <td>39</td>      <td>Starter</td>      <td>37</td>      <td>13</td>      <td>7</td>      <td>2</td>      <td>0</td>      <td>2</td>      <td>4</td>      <td>14</td>      <td>22</td>      <td>1</td>      <td>1</td>      <td>8</td>      <td>9</td>      <td>3</td>      <td>MIL</td>      <td>UTA</td>      <td>Home</td>      <td>Win</td>    </tr>    <tr>      <td>Giannis Antetokounmpo</td>      <td>PF</td>      <td>2017-12-13</td>      <td>42</td>      <td>Starter</td>      <td>32</td>      <td>9</td>      <td>4</td>      <td>5</td>      <td>1</td>      <td>2</td>      <td>1</td>      <td>13</td>      <td>24</td>      <td>1</td>      <td>2</td>      <td>5</td>      <td>8</td>      <td>5</td>      <td>MIL</td>      <td>NO</td>      <td>Away</td>      <td>Loss</td>    </tr>    <tr>      <td>Giannis Antetokounmpo</td>      <td>PF</td>      <td>2017-12-15</td>      <td>40</td>      <td>Starter</td>      <td>29</td>      <td>16</td>      <td>4</td>      <td>0</td>      <td>1</td>      <td>1</td>      <td>1</td>      <td>11</td>      <td>18</td>      <td>1</td>      <td>3</td>      <td>6</td>      <td>9</td>      <td>5</td>      <td>MIL</td>      <td>CHI</td>      <td>Home</td>      <td>Loss</td>    </tr>    <tr>      <td>Giannis Antetokounmpo</td>      <td>PF</td>      <td>2017-12-16</td>      <td>42</td>      <td>Starter</td>      <td>28</td>      <td>9</td>      <td>5</td>      <td>4</td>      <td>0</td>      <td>3</td>      <td>2</td>      <td>10</td>      <td>22</td>      <td>0</td>      <td>3</td>      <td>8</td>      <td>10</td>      <td>2</td>      <td>MIL</td>      <td>HOU</td>      <td>Away</td>      <td>Loss</td>    </tr>    <tr>      <td>Giannis Antetokounmpo</td>      <td>PF</td>      <td>2017-12-19</td>      <td>40</td>      <td>Starter</td>      <td>27</td>      <td>14</td>      <td>8</td>      <td>2</td>      <td>0</td>      <td>3</td>      <td>1</td>      <td>8</td>      <td>14</td>      <td>0</td>      <td>0</td>      <td>11</td>      <td>12</td>      <td>2</td>      <td>MIL</td>      <td>CLE</td>      <td>Home</td>      <td>Win</td>    </tr>    <tr>      <td>Giannis Antetokounmpo</td>      <td>PF</td>      <td>2017-12-22</td>      <td>37</td>      <td>Starter</td>      <td>26</td>      <td>7</td>      <td>5</td>      <td>1</td>      <td>0</td>      <td>0</td>      <td>3</td>      <td>9</td>      <td>20</td>      <td>1</td>      <td>3</td>      <td>7</td>      <td>8</td>      <td>1</td>      <td>MIL</td>      <td>CHA</td>      <td>Home</td>      <td>Win</td>    </tr>    <tr>      <td>Giannis Antetokounmpo</td>      <td>PF</td>      <td>2017-12-26</td>      <td>37</td>      <td>Starter</td>      <td>28</td>      <td>7</td>      <td>4</td>      <td>1</td>      <td>1</td>      <td>4</td>      <td>3</td>      <td>11</td>      <td>17</td>      <td>1</td>      <td>4</td>      <td>5</td>      <td>6</td>      <td>1</td>      <td>MIL</td>      <td>CHI</td>      <td>Home</td>      <td>Loss</td>    </tr>    <tr>      <td>Giannis Antetokounmpo</td>      <td>PF</td>      <td>2017-12-28</td>      <td>40</td>      <td>Starter</td>      <td>22</td>      <td>10</td>      <td>3</td>      <td>0</td>      <td>0</td>      <td>4</td>      <td>2</td>      <td>11</td>      <td>20</td>      <td>0</td>      <td>1</td>      <td>0</td>      <td>0</td>      <td>3</td>      <td>MIL</td>      <td>MIN</td>      <td>Home</td>      <td>Win</td>    </tr>    <tr>      <td>Giannis Antetokounmpo</td>      <td>PF</td>      <td>2017-12-29</td>      <td>40</td>      <td>Starter</td>      <td>23</td>      <td>12</td>      <td>6</td>      <td>1</td>      <td>1</td>      <td>5</td>      <td>0</td>      <td>10</td>      <td>16</td>      <td>0</td>      <td>0</td>      <td>3</td>      <td>4</td>      <td>6</td>      <td>MIL</td>      <td>OKC</td>      <td>Away</td>      <td>Win</td>    </tr>    <tr>      <td>Giannis Antetokounmpo</td>      <td>PF</td>      <td>2018-01-01</td>      <td>42</td>      <td>Starter</td>      <td>26</td>      <td>9</td>      <td>7</td>      <td>0</td>      <td>0</td>      <td>0</td>      <td>4</td>      <td>9</td>      <td>18</td>      <td>1</td>      <td>3</td>      <td>7</td>      <td>9</td>      <td>2</td>      <td>MIL</td>      <td>TOR</td>      <td>Away</td>      <td>Loss</td>    </tr>    <tr>      <td>Giannis Antetokounmpo</td>      <td>PF</td>      <td>2018-01-03</td>      <td>29</td>      <td>Starter</td>      <td>31</td>      <td>10</td>      <td>5</td>      <td>1</td>      <td>2</td>      <td>2</td>      <td>1</td>      <td>12</td>      <td>18</td>      <td>0</td>      <td>1</td>      <td>7</td>      <td>8</td>      <td>3</td>      <td>MIL</td>      <td>IND</td>      <td>Home</td>      <td>Win</td>    </tr>    <tr>      <td>Giannis Antetokounmpo</td>      <td>PF</td>      <td>2018-01-05</td>      <td>34</td>      <td>Starter</td>      <td>24</td>      <td>5</td>      <td>5</td>      <td>2</td>      <td>0</td>      <td>2</td>      <td>1</td>      <td>9</td>      <td>14</td>      <td>0</td>      <td>0</td>      <td>6</td>      <td>9</td>      <td>1</td>      <td>MIL</td>      <td>TOR</td>      <td>Home</td>      <td>Loss</td>    </tr>    <tr>      <td>Giannis Antetokounmpo</td>      <td>PF</td>      <td>2018-01-06</td>      <td>41</td>      <td>Starter</td>      <td>34</td>      <td>12</td>      <td>7</td>      <td>2</td>      <td>1</td>      <td>3</td>      <td>5</td>      <td>12</td>      <td>17</td>      <td>1</td>      <td>1</td>      <td>9</td>      <td>10</td>      <td>2</td>      <td>MIL</td>      <td>WAS</td>      <td>Away</td>      <td>Win</td>    </tr>    <tr>      <td>Giannis Antetokounmpo</td>      <td>PF</td>      <td>2018-01-08</td>      <td>32</td>      <td>Starter</td>      <td>17</td>      <td>7</td>      <td>3</td>      <td>2</td>      <td>1</td>      <td>4</td>      <td>1</td>      <td>3</td>      <td>8</td>      <td>0</td>      <td>1</td>      <td>11</td>      <td>14</td>      <td>1</td>      <td>MIL</td>      <td>IND</td>      <td>Away</td>      <td>Loss</td>    </tr>    <tr>      <td>Giannis Antetokounmpo</td>      <td>PF</td>      <td>2018-01-10</td>      <td>34</td>      <td>Starter</td>      <td>26</td>      <td>7</td>      <td>1</td>      <td>0</td>      <td>1</td>      <td>2</td>      <td>2</td>      <td>10</td>      <td>15</td>      <td>0</td>      <td>0</td>      <td>6</td>      <td>10</td>      <td>3</td>      <td>MIL</td>      <td>ORL</td>      <td>Home</td>      <td>Win</td>    </tr>    <tr>      <td>Giannis Antetokounmpo</td>      <td>PF</td>      <td>2018-01-12</td>      <td>36</td>      <td>Starter</td>      <td>23</td>      <td>7</td>      <td>4</td>      <td>0</td>      <td>1</td>      <td>3</td>      <td>5</td>      <td>10</td>      <td>19</td>      <td>0</td>      <td>3</td>      <td>3</td>      <td>3</td>      <td>2</td>      <td>MIL</td>      <td>GS</td>      <td>Home</td>      <td>Loss</td>    </tr>    <tr>      <td>Giannis Antetokounmpo</td>      <td>PF</td>      <td>2018-01-14</td>      <td>31</td>      <td>Starter</td>      <td>22</td>      <td>6</td>      <td>1</td>      <td>1</td>      <td>0</td>      <td>2</td>      <td>4</td>      <td>6</td>      <td>12</td>      <td>0</td>      <td>0</td>      <td>10</td>      <td>10</td>      <td>1</td>      <td>MIL</td>      <td>MIA</td>      <td>Away</td>      <td>Loss</td>    </tr>    <tr>      <td>Giannis Antetokounmpo</td>      <td>PF</td>      <td>2018-01-15</td>      <td>39</td>      <td>Starter</td>      <td>27</td>      <td>20</td>      <td>6</td>      <td>0</td>      <td>2</td>      <td>3</td>      <td>4</td>      <td>9</td>      <td>23</td>      <td>0</td>      <td>0</td>      <td>9</td>      <td>15</td>      <td>7</td>      <td>MIL</td>      <td>WAS</td>      <td>Away</td>      <td>Win</td>    </tr>    <tr>      <td>Giannis Antetokounmpo</td>      <td>PF</td>      <td>2018-01-17</td>      <td>38</td>      <td>Starter</td>      <td>22</td>      <td>10</td>      <td>6</td>      <td>2</td>      <td>2</td>      <td>1</td>      <td>3</td>      <td>6</td>      <td>15</td>      <td>2</td>      <td>3</td>      <td>8</td>      <td>15</td>      <td>2</td>      <td>MIL</td>      <td>MIA</td>      <td>Home</td>      <td>Loss</td>    </tr>    <tr>      <td>Giannis Antetokounmpo</td>      <td>PF</td>      <td>2018-01-26</td>      <td>33</td>      <td>Starter</td>      <td>41</td>      <td>13</td>      <td>7</td>      <td>2</td>      <td>2</td>      <td>1</td>      <td>2</td>      <td>14</td>      <td>20</td>      <td>3</td>      <td>3</td>      <td>10</td>      <td>11</td>      <td>2</td>      <td>MIL</td>      <td>BKN</td>      <td>Home</td>      <td>Win</td>    </tr>    <tr>      <td>Giannis Antetokounmpo</td>      <td>PF</td>      <td>2018-01-28</td>      <td>35</td>      <td>Starter</td>      <td>27</td>      <td>9</td>      <td>8</td>      <td>1</td>      <td>1</td>      <td>3</td>      <td>2</td>      <td>11</td>      <td>19</td>      <td>0</td>      <td>0</td>      <td>5</td>      <td>10</td>      <td>3</td>      <td>MIL</td>      <td>CHI</td>      <td>Away</td>      <td>Win</td>    </tr>    <tr>      <td>Giannis Antetokounmpo</td>      <td>PF</td>      <td>2018-01-29</td>      <td>36</td>      <td>Starter</td>      <td>31</td>      <td>18</td>      <td>6</td>      <td>0</td>      <td>1</td>      <td>4</td>      <td>4</td>      <td>10</td>      <td>22</td>      <td>1</td>      <td>5</td>      <td>10</td>      <td>10</td>      <td>3</td>      <td>MIL</td>      <td>PHI</td>      <td>Home</td>      <td>Win</td>    </tr>    <tr>      <td>Giannis Antetokounmpo</td>      <td>PF</td>      <td>2018-02-01</td>      <td>36</td>      <td>Starter</td>      <td>17</td>      <td>15</td>      <td>6</td>      <td>0</td>      <td>0</td>      <td>5</td>      <td>2</td>      <td>6</td>      <td>14</td>      <td>0</td>      <td>1</td>      <td>5</td>      <td>9</td>      <td>2</td>      <td>MIL</td>      <td>MIN</td>      <td>Away</td>      <td>Loss</td>    </tr>    <tr>      <td>Giannis Antetokounmpo</td>      <td>PF</td>      <td>2018-02-02</td>      <td>37</td>      <td>Starter</td>      <td>29</td>      <td>11</td>      <td>2</td>      <td>3</td>      <td>2</td>      <td>2</td>      <td>2</td>      <td>10</td>      <td>21</td>      <td>1</td>      <td>3</td>      <td>8</td>      <td>12</td>      <td>0</td>      <td>MIL</td>      <td>NY</td>      <td>Home</td>      <td>Win</td>    </tr>    <tr>      <td>Giannis Antetokounmpo</td>      <td>PF</td>      <td>2018-02-04</td>      <td>28</td>      <td>Starter</td>      <td>16</td>      <td>8</td>      <td>4</td>      <td>0</td>      <td>1</td>      <td>2</td>      <td>0</td>      <td>7</td>      <td>13</td>      <td>1</td>      <td>2</td>      <td>1</td>      <td>1</td>      <td>1</td>      <td>MIL</td>      <td>BKN</td>      <td>Away</td>      <td>Win</td>    </tr>    <tr>      <td>Giannis Antetokounmpo</td>      <td>PF</td>      <td>2018-02-06</td>      <td>35</td>      <td>Starter</td>      <td>23</td>      <td>11</td>      <td>6</td>      <td>1</td>      <td>2</td>      <td>3</td>      <td>3</td>      <td>10</td>      <td>23</td>      <td>0</td>      <td>0</td>      <td>3</td>      <td>6</td>      <td>1</td>      <td>MIL</td>      <td>NY</td>      <td>Away</td>      <td>Win</td>    </tr>    <tr>      <td>Giannis Antetokounmpo</td>      <td>PF</td>      <td>2018-02-09</td>      <td>40</td>      <td>Starter</td>      <td>23</td>      <td>11</td>      <td>3</td>      <td>1</td>      <td>2</td>      <td>5</td>      <td>4</td>      <td>8</td>      <td>21</td>      <td>1</td>      <td>4</td>      <td>6</td>      <td>7</td>      <td>0</td>      <td>MIL</td>      <td>MIA</td>      <td>Away</td>      <td>Loss</td>    </tr>    <tr>      <td>Giannis Antetokounmpo</td>      <td>PF</td>      <td>2018-02-10</td>      <td>38</td>      <td>Starter</td>      <td>32</td>      <td>5</td>      <td>5</td>      <td>1</td>      <td>2</td>      <td>3</td>      <td>2</td>      <td>14</td>      <td>24</td>      <td>0</td>      <td>1</td>      <td>4</td>      <td>7</td>      <td>1</td>      <td>MIL</td>      <td>ORL</td>      <td>Away</td>      <td>Win</td>    </tr>    <tr>      <td>Giannis Antetokounmpo</td>      <td>PF</td>      <td>2018-02-13</td>      <td>34</td>      <td>Starter</td>      <td>15</td>      <td>15</td>      <td>3</td>      <td>1</td>      <td>2</td>      <td>1</td>      <td>5</td>      <td>7</td>      <td>16</td>      <td>0</td>      <td>4</td>      <td>1</td>      <td>2</td>      <td>3</td>      <td>MIL</td>      <td>ATL</td>      <td>Home</td>      <td>Win</td>    </tr>    <tr>      <td>Giannis Antetokounmpo</td>      <td>PF</td>      <td>2018-02-15</td>      <td>39</td>      <td>Starter</td>      <td>36</td>      <td>11</td>      <td>13</td>      <td>0</td>      <td>3</td>      <td>6</td>      <td>2</td>      <td>14</td>      <td>21</td>      <td>1</td>      <td>2</td>      <td>7</td>      <td>12</td>      <td>3</td>      <td>MIL</td>      <td>DEN</td>      <td>Home</td>      <td>Loss</td>    </tr>    <tr>      <td>Giannis Antetokounmpo</td>      <td>PF</td>      <td>2018-02-23</td>      <td>45</td>      <td>Starter</td>      <td>26</td>      <td>12</td>      <td>6</td>      <td>2</td>      <td>1</td>      <td>3</td>      <td>2</td>      <td>11</td>      <td>22</td>      <td>0</td>      <td>1</td>      <td>4</td>      <td>4</td>      <td>3</td>      <td>MIL</td>      <td>TOR</td>      <td>Away</td>      <td>Win</td>    </tr>    <tr>      <td>Giannis Antetokounmpo</td>      <td>PF</td>      <td>2018-02-25</td>      <td>40</td>      <td>Starter</td>      <td>20</td>      <td>4</td>      <td>6</td>      <td>2</td>      <td>0</td>      <td>0</td>      <td>5</td>      <td>6</td>      <td>18</td>      <td>0</td>      <td>2</td>      <td>8</td>      <td>10</td>      <td>1</td>      <td>MIL</td>      <td>NO</td>      <td>Home</td>      <td>Loss</td>    </tr>    <tr>      <td>Giannis Antetokounmpo</td>      <td>PF</td>      <td>2018-02-27</td>      <td>39</td>      <td>Starter</td>      <td>23</td>      <td>13</td>      <td>8</td>      <td>3</td>      <td>6</td>      <td>5</td>      <td>5</td>      <td>8</td>      <td>16</td>      <td>1</td>      <td>1</td>      <td>6</td>      <td>8</td>      <td>2</td>      <td>MIL</td>      <td>WAS</td>      <td>Home</td>      <td>Loss</td>    </tr>    <tr>      <td>Giannis Antetokounmpo</td>      <td>PF</td>      <td>2018-02-28</td>      <td>30</td>      <td>Starter</td>      <td>11</td>      <td>3</td>      <td>2</td>      <td>0</td>      <td>0</td>      <td>4</td>      <td>3</td>      <td>5</td>      <td>13</td>      <td>1</td>      <td>3</td>      <td>0</td>      <td>0</td>      <td>0</td>      <td>MIL</td>      <td>DET</td>      <td>Away</td>      <td>Loss</td>    </tr>    <tr>      <td>Giannis Antetokounmpo</td>      <td>PF</td>      <td>2018-03-02</td>      <td>43</td>      <td>Starter</td>      <td>24</td>      <td>10</td>      <td>3</td>      <td>1</td>      <td>3</td>      <td>3</td>      <td>4</td>      <td>6</td>      <td>18</td>      <td>2</td>      <td>4</td>      <td>10</td>      <td>12</td>      <td>2</td>      <td>MIL</td>      <td>IND</td>      <td>Home</td>      <td>Loss</td>    </tr>    <tr>      <td>Giannis Antetokounmpo</td>      <td>PF</td>      <td>2018-03-04</td>      <td>42</td>      <td>Starter</td>      <td>35</td>      <td>9</td>      <td>7</td>      <td>2</td>      <td>1</td>      <td>4</td>      <td>3</td>      <td>14</td>      <td>23</td>      <td>1</td>      <td>1</td>      <td>6</td>      <td>10</td>      <td>3</td>      <td>MIL</td>      <td>PHI</td>      <td>Home</td>      <td>Win</td>    </tr>    <tr>      <td>Giannis Antetokounmpo</td>      <td>PF</td>      <td>2018-03-05</td>      <td>37</td>      <td>Starter</td>      <td>18</td>      <td>12</td>      <td>2</td>      <td>2</td>      <td>5</td>      <td>2</td>      <td>1</td>      <td>7</td>      <td>16</td>      <td>0</td>      <td>2</td>      <td>4</td>      <td>5</td>      <td>2</td>      <td>MIL</td>      <td>IND</td>      <td>Away</td>      <td>Loss</td>    </tr>    <tr>      <td>Giannis Antetokounmpo</td>      <td>PF</td>      <td>2018-03-07</td>      <td>38</td>      <td>Starter</td>      <td>30</td>      <td>7</td>      <td>1</td>      <td>1</td>      <td>2</td>      <td>6</td>      <td>4</td>      <td>12</td>      <td>20</td>      <td>0</td>      <td>0</td>      <td>6</td>      <td>9</td>      <td>2</td>      <td>MIL</td>      <td>HOU</td>      <td>Home</td>      <td>Loss</td>    </tr>    <tr>      <td>Giannis Antetokounmpo</td>      <td>PF</td>      <td>2018-03-09</td>      <td>35</td>      <td>Starter</td>      <td>28</td>      <td>10</td>      <td>5</td>      <td>2</td>      <td>2</td>      <td>1</td>      <td>2</td>      <td>7</td>      <td>15</td>      <td>0</td>      <td>0</td>      <td>14</td>      <td>18</td>      <td>2</td>      <td>MIL</td>      <td>NY</td>      <td>Home</td>      <td>Win</td>    </tr>    <tr>      <td>Giannis Antetokounmpo</td>      <td>PF</td>      <td>2018-03-12</td>      <td>28</td>      <td>Starter</td>      <td>20</td>      <td>6</td>      <td>4</td>      <td>0</td>      <td>1</td>      <td>6</td>      <td>5</td>      <td>7</td>      <td>14</td>      <td>1</td>      <td>3</td>      <td>5</td>      <td>7</td>      <td>1</td>      <td>MIL</td>      <td>MEM</td>      <td>Away</td>      <td>Win</td>    </tr>    <tr>      <td>Giannis Antetokounmpo</td>      <td>PF</td>      <td>2018-03-14</td>      <td>40</td>      <td>Starter</td>      <td>38</td>      <td>10</td>      <td>7</td>      <td>3</td>      <td>0</td>      <td>2</td>      <td>4</td>      <td>16</td>      <td>29</td>      <td>1</td>      <td>3</td>      <td>5</td>      <td>5</td>      <td>1</td>      <td>MIL</td>      <td>ORL</td>      <td>Away</td>      <td>Loss</td>    </tr>    <tr>      <td>Giannis Antetokounmpo</td>      <td>PF</td>      <td>2018-03-17</td>      <td>39</td>      <td>Starter</td>      <td>33</td>      <td>12</td>      <td>7</td>      <td>4</td>      <td>2</td>      <td>2</td>      <td>5</td>      <td>12</td>      <td>25</td>      <td>2</td>      <td>6</td>      <td>7</td>      <td>8</td>      <td>4</td>      <td>MIL</td>      <td>ATL</td>      <td>Home</td>      <td>Win</td>    </tr>    <tr>      <td>Giannis Antetokounmpo</td>      <td>PF</td>      <td>2018-03-19</td>      <td>39</td>      <td>Starter</td>      <td>37</td>      <td>11</td>      <td>5</td>      <td>1</td>      <td>0</td>      <td>2</td>      <td>4</td>      <td>13</td>      <td>20</td>      <td>0</td>      <td>2</td>      <td>11</td>      <td>11</td>      <td>3</td>      <td>MIL</td>      <td>CLE</td>      <td>Away</td>      <td>Loss</td>    </tr>    <tr>      <td>Giannis Antetokounmpo</td>      <td>PF</td>      <td>2018-03-21</td>      <td>17</td>      <td>Starter</td>      <td>12</td>      <td>2</td>      <td>2</td>      <td>1</td>      <td>3</td>      <td>4</td>      <td>1</td>      <td>5</td>      <td>9</td>      <td>0</td>      <td>1</td>      <td>2</td>      <td>3</td>      <td>0</td>      <td>MIL</td>      <td>LAC</td>      <td>Home</td>      <td>Loss</td>    </tr>    <tr>      <td>Giannis Antetokounmpo</td>      <td>PF</td>      <td>2018-03-25</td>      <td>38</td>      <td>Starter</td>      <td>25</td>      <td>10</td>      <td>3</td>      <td>1</td>      <td>0</td>      <td>3</td>      <td>3</td>      <td>9</td>      <td>16</td>      <td>3</td>      <td>4</td>      <td>4</td>      <td>5</td>      <td>2</td>      <td>MIL</td>      <td>SA</td>      <td>Home</td>      <td>Win</td>    </tr>    <tr>      <td>Giannis Antetokounmpo</td>      <td>PF</td>      <td>2018-03-27</td>      <td>40</td>      <td>Starter</td>      <td>26</td>      <td>9</td>      <td>7</td>      <td>0</td>      <td>5</td>      <td>4</td>      <td>0</td>      <td>10</td>      <td>16</td>      <td>1</td>      <td>2</td>      <td>5</td>      <td>9</td>      <td>2</td>      <td>MIL</td>      <td>LAC</td>      <td>Away</td>      <td>Loss</td>    </tr>    <tr>      <td>Giannis Antetokounmpo</td>      <td>PF</td>      <td>2018-03-29</td>      <td>35</td>      <td>Starter</td>      <td>32</td>      <td>4</td>      <td>5</td>      <td>2</td>      <td>0</td>      <td>1</td>      <td>3</td>      <td>14</td>      <td>18</td>      <td>2</td>      <td>3</td>      <td>2</td>      <td>2</td>      <td>1</td>      <td>MIL</td>      <td>GS</td>      <td>Away</td>      <td>Win</td>    </tr>    <tr>      <td>Giannis Antetokounmpo</td>      <td>PF</td>      <td>2018-03-30</td>      <td>43</td>      <td>Starter</td>      <td>27</td>      <td>16</td>      <td>4</td>      <td>0</td>      <td>1</td>      <td>4</td>      <td>5</td>      <td>8</td>      <td>20</td>      <td>0</td>      <td>0</td>      <td>11</td>      <td>15</td>      <td>6</td>      <td>MIL</td>      <td>LAL</td>      <td>Away</td>      <td>Win</td>    </tr>    <tr>      <td>Giannis Antetokounmpo</td>      <td>PF</td>      <td>2018-04-01</td>      <td>33</td>      <td>Starter</td>      <td>18</td>      <td>12</td>      <td>6</td>      <td>1</td>      <td>0</td>      <td>4</td>      <td>6</td>      <td>7</td>      <td>13</td>      <td>1</td>      <td>2</td>      <td>3</td>      <td>6</td>      <td>2</td>      <td>MIL</td>      <td>DEN</td>      <td>Away</td>      <td>Loss</td>    </tr>    <tr>      <td>Giannis Antetokounmpo</td>      <td>PF</td>      <td>2018-04-03</td>      <td>36</td>      <td>Starter</td>      <td>29</td>      <td>11</td>      <td>6</td>      <td>1</td>      <td>2</td>      <td>5</td>      <td>3</td>      <td>11</td>      <td>22</td>      <td>0</td>      <td>3</td>      <td>7</td>      <td>8</td>      <td>1</td>      <td>MIL</td>      <td>BOS</td>      <td>Home</td>      <td>Win</td>    </tr>    <tr>      <td>Giannis Antetokounmpo</td>      <td>PF</td>      <td>2018-04-05</td>      <td>36</td>      <td>Starter</td>      <td>19</td>      <td>10</td>      <td>7</td>      <td>4</td>      <td>1</td>      <td>1</td>      <td>2</td>      <td>7</td>      <td>21</td>      <td>0</td>      <td>3</td>      <td>5</td>      <td>5</td>      <td>0</td>      <td>MIL</td>      <td>BKN</td>      <td>Home</td>      <td>Loss</td>    </tr>    <tr>      <td>Giannis Antetokounmpo</td>      <td>PF</td>      <td>2018-04-11</td>      <td>22</td>      <td>Starter</td>      <td>10</td>      <td>10</td>      <td>3</td>      <td>0</td>      <td>0</td>      <td>5</td>      <td>2</td>      <td>5</td>      <td>14</td>      <td>0</td>      <td>1</td>      <td>0</td>      <td>0</td>      <td>1</td>      <td>MIL</td>      <td>PHI</td>      <td>Away</td>      <td>Loss</td>    </tr>  </tbody></table>'"
      ]
     },
     "execution_count": 271,
     "metadata": {},
     "output_type": "execute_result"
    }
   ],
   "source": [
    "htmlplayergamelog"
   ]
  },
  {
   "cell_type": "code",
   "execution_count": null,
   "metadata": {},
   "outputs": [],
   "source": []
  },
  {
   "cell_type": "code",
   "execution_count": 276,
   "metadata": {},
   "outputs": [],
   "source": [
    "playerdf = teamdata[\"ALL\"][\"Giannis Antetokounmpo\"]"
   ]
  },
  {
   "cell_type": "code",
   "execution_count": 295,
   "metadata": {},
   "outputs": [
    {
     "data": {
      "text/plain": [
       "2014"
      ]
     },
     "execution_count": 295,
     "metadata": {},
     "output_type": "execute_result"
    }
   ],
   "source": [
    "playerdf[\"playPTS\"].sum()"
   ]
  },
  {
   "cell_type": "code",
   "execution_count": null,
   "metadata": {},
   "outputs": [],
   "source": []
  },
  {
   "cell_type": "code",
   "execution_count": null,
   "metadata": {},
   "outputs": [],
   "source": []
  }
 ],
 "metadata": {
  "kernelspec": {
   "display_name": "Python 3",
   "language": "python",
   "name": "python3"
  },
  "language_info": {
   "codemirror_mode": {
    "name": "ipython",
    "version": 3
   },
   "file_extension": ".py",
   "mimetype": "text/x-python",
   "name": "python",
   "nbconvert_exporter": "python",
   "pygments_lexer": "ipython3",
   "version": "3.6.4"
  }
 },
 "nbformat": 4,
 "nbformat_minor": 2
}
